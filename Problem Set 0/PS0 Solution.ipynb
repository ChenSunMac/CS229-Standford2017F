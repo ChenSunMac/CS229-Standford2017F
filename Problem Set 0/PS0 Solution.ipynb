{
 "cells": [
  {
   "cell_type": "markdown",
   "metadata": {},
   "source": [
    "Problem set在这里: http://cs229.stanford.edu/materials/ps0.pdf\n"
   ]
  },
  {
   "cell_type": "markdown",
   "metadata": {},
   "source": [
    "**1. Gradients and Hessians**"
   ]
  },
  {
   "cell_type": "markdown",
   "metadata": {},
   "source": [
    "- (a) Let $f(x) = \\frac{1}{2}x^TAx + b^Tx$, where A is symmetric matrix and $b\\in R^n$ is a vector. What is $\\nabla f(x)$?"
   ]
  },
  {
   "cell_type": "markdown",
   "metadata": {},
   "source": [
    "Since for the gradients $\\nabla f(x)$ of a $f(x): R^n \\rightarrow R$, we have:\n",
    "$$\\nabla f(x) = \\begin{bmatrix}\n",
    "\\frac{\\partial}{\\partial x_1}f(x)\\\\\n",
    "\\frac{\\partial}{\\partial x_2}f(x)\\\\\n",
    "...\\\\\n",
    "\\frac{\\partial}{\\partial x_n}f(x)\n",
    "\\end{bmatrix}\n",
    "$$"
   ]
  },
  {
   "cell_type": "markdown",
   "metadata": {},
   "source": [
    "Appearantly, we have $\\nabla f(x) = \\nabla_x(\\frac{1}{2}x^TAx) + \\nabla_x (b^Tx)$;"
   ]
  },
  {
   "cell_type": "markdown",
   "metadata": {},
   "source": [
    "The second term is rather easy, since $b^Tx = b_1x_1 + b_2x_2 + ... + b_nx_n$, hence we have $ \\nabla_x (b^Tx) = b$"
   ]
  },
  {
   "cell_type": "markdown",
   "metadata": {},
   "source": [
    "We can then expand the first term as \n",
    "$$\\begin{equation}\n",
    "\\frac{1}{2}x^TAx = x^T(Ax) \\\\\n",
    "= x^T\\begin{bmatrix}\n",
    "\\sum_{j = 1}^n A_{1j}x_j\\\\\n",
    "\\sum_{j = 1}^n A_{2j}x_j\\\\\n",
    "...\n",
    "\\sum_{j = 1}^n A_{nj}x_j\n",
    "\\end{bmatrix} \\\\\n",
    "=  x_1 \\sum_{j = 1}^n A_{1j}x_j + x_2 \\sum_{j = 1}^n A_{2j}x_j + ... + \\sum_{j = 1}^n A_{nj}x_j =  \\sum_{i = 1}^n\\sum_{j = 1}^n A_{ij}x_ix_j\n",
    "\\end{equation}$$"
   ]
  },
  {
   "cell_type": "markdown",
   "metadata": {},
   "source": [
    "To solve $\\nabla_x \\sum_{i = 1}^n\\sum_{j = 1}^n A_{ij}x_ix_j$, we find that all components independent of $x_k$ are gone.\n",
    "$$\n",
    "\\begin{equation}\n",
    "\\nabla_x \\sum_{i = 1}^n\\sum_{j = 1}^n A_{ij}x_ix_j = \\sum_{j \\neq k}^n A_{kj}x_j + \\sum_{i \\neq k}^n A_{ik}x_j + 2A_{kk}x_k \\\\\n",
    "= 2\\sum_{j = 1}^n A_{kj}x_j = 2Ax\n",
    "\\end{equation}\n",
    "$$"
   ]
  },
  {
   "cell_type": "markdown",
   "metadata": {},
   "source": [
    "Thus, $\\nabla f(x) = \\nabla_x(\\frac{1}{2}x^TAx) + \\nabla_x (b^Tx) = Ax + b$"
   ]
  },
  {
   "cell_type": "markdown",
   "metadata": {},
   "source": [
    " - (b) Let $f(x) = g(h(x))$, where $g: R \\rightarrow R$ is differentiable and h : $R^n \\rightarrow R$ is differentiable, what is $\\nabla f(x)$?"
   ]
  },
  {
   "cell_type": "markdown",
   "metadata": {},
   "source": [
    "$ \\nabla f(x) = \\begin{bmatrix}\n",
    "\\frac{d}{dh} g(h) \\frac{\\partial }{\\partial x_1} h(x)\\\\\n",
    "...\\\\\n",
    "\\frac{d}{dh} g(h) \\frac{\\partial }{\\partial x_n} h(x)\n",
    "\\end{bmatrix} $"
   ]
  },
  {
   "cell_type": "markdown",
   "metadata": {},
   "source": [
    "- (c) Write out $\\nabla^2 f(x)$ for (a) "
   ]
  },
  {
   "cell_type": "markdown",
   "metadata": {},
   "source": [
    "Given the Hessian $\\nabla^2 f(x)$ of a function $f : R^n \\rightarrow R$ is the $n \\times n$ symmetric matrix of twice partial derivatives:"
   ]
  },
  {
   "cell_type": "markdown",
   "metadata": {},
   "source": [
    "$$\\begin{equation}\n",
    "\\nabla^2f(x) = \\begin{bmatrix}\n",
    "\\frac{\\partial^2}{\\partial x_1^2} f(x) & ... &\\frac{\\partial^2}{\\partial x_1 \\partial x_n} f(x) \\\\\n",
    ". &. &.\\\\\n",
    "\\frac{\\partial^2}{\\partial x_n\\partial x_1} f(x) &...& \\frac{\\partial^2}{ \\partial x_n^2} f(x) \n",
    "\\end{bmatrix}\n",
    "\\end{equation}$$"
   ]
  },
  {
   "cell_type": "markdown",
   "metadata": {},
   "source": [
    "$\\nabla^2 f(x) = Jacobian(\\nabla_x(\\frac{1}{2}x^TAx) + \\nabla_x (b^Tx)) = Jacobian(Ax + b) = A$"
   ]
  },
  {
   "cell_type": "markdown",
   "metadata": {},
   "source": [
    "-(d) Let $f(x)  = g(a^Tx)$, where $g: R \\rightarrow R$ is continuously differentiable and $a\\in R^n$ is a vector. What are the gradient $\\nabla f(x)$ and the Hessian $\\nabla^2 f(x)$?"
   ]
  },
  {
   "cell_type": "markdown",
   "metadata": {},
   "source": [
    "$$\\nabla f(x) = g'(a^Tx)\\cdot a$$"
   ]
  },
  {
   "cell_type": "markdown",
   "metadata": {},
   "source": [
    "Since we have $\\nabla_x(a^Tx) = a$ and the results in (b)"
   ]
  },
  {
   "cell_type": "markdown",
   "metadata": {},
   "source": [
    "Similarly, we can get the Hessian:\n",
    "    $$\n",
    "    \\nabla^2f(x) = g'(a^Tx) \\cdot aa^T \n",
    "    $$"
   ]
  },
  {
   "cell_type": "markdown",
   "metadata": {},
   "source": [
    "**2. Positve Definite Matrices **"
   ]
  },
  {
   "cell_type": "markdown",
   "metadata": {},
   "source": [
    "A matrix $A\\in R^{n\\times n}$ is positive semidefinite (PSD) if $A = A^T$ and $x^TAx \\geq 0$ for all $x\\in R^n$. A is positive definite if $A = A^T$ and $x^TAx > 0$ for all $x \\neq 0$."
   ]
  },
  {
   "cell_type": "markdown",
   "metadata": {},
   "source": [
    "- (a) Let $z$ be a n-vector, show that $A = zz^T$ is PSD"
   ]
  },
  {
   "cell_type": "markdown",
   "metadata": {},
   "source": [
    "First, we prove $A$ is symmetric, since $A^T = zz^T = A$"
   ]
  },
  {
   "cell_type": "markdown",
   "metadata": {},
   "source": [
    "Then we calculate $x^TAx$:\n",
    "$$\n",
    "\\begin{equation}\n",
    "x^TAx = \\sum_{i = 1}^n\\sum_{j = 1}^n A_{ij}x_ix_j \\\\\n",
    "= \\sum_{i = 1}^n\\sum_{j = 1}^n z_iz_jx_ix_j \\\\\n",
    "=  \\sum_{i = 1}^n\\sum_{j = 1}^n (z_ix_i)(x_jz_j)\\\\\n",
    "= \\sum_{i = 1}^n(z_ix_i)^2 \\geq 0\n",
    "\\end{equation}\n",
    "$$"
   ]
  },
  {
   "cell_type": "markdown",
   "metadata": {},
   "source": [
    "Hence A is PSD"
   ]
  },
  {
   "cell_type": "markdown",
   "metadata": {},
   "source": [
    "- (b) Let $A\\in R^{n\\times n}$ is PSD and $B\\in R^{m\\times n}$ be arbitrary. Prove $BAB^T$ is PSD."
   ]
  },
  {
   "cell_type": "markdown",
   "metadata": {},
   "source": [
    "(i) Since $A$ is PSD, hence $A = A^T$, so we have $(BAB^T)^T = BA^TB^T = BAB^T$. BAB^T is symmetric.\n",
    "\n",
    "(ii) $x^TBAB^Tx = (x^TB)A(B^Tx) = y^TAy \\geq 0$\n",
    "\n",
    "Hence we proved $BAB^T$ is PSD."
   ]
  },
  {
   "cell_type": "markdown",
   "metadata": {},
   "source": [
    "**3. Eigenvectors, eigenvalues and Spectral Theorem **"
   ]
  },
  {
   "cell_type": "markdown",
   "metadata": {},
   "source": [
    "- (a) Suppose $A \\in R^{n\\times n}$ and $A = T\\Lambda T^{-1}$ for an invertible matrix $T\\in R^{n\\times n}$, where $\\Lambda = diag(\\lambda_1 ... \\lambda_n)$, denote $t^{i}$ for the columns of T. Show that $At^{i} = \\lambda_it^{i}$, so that the eigenvalues/eigenvector pairs of $A$ are $(\\lambda_i, t^i)$ "
   ]
  },
  {
   "cell_type": "markdown",
   "metadata": {},
   "source": [
    "This is obvious since $AT = T\\Lambda = A [t^1...t^n ] = \\Lambda t^i  \\rightarrow At^i = \\lambda_i t^i$"
   ]
  },
  {
   "cell_type": "markdown",
   "metadata": {},
   "source": [
    "- (b) Spetral Theorem:\n",
    "\n",
    "If  $A \\in R^{n\\times n}$ which is diagonalizable by a real orthogonal matrix $U$ (U^{-1} = U^T), we have\n",
    "$$U^TAU = \\Lambda$$\n",
    "\n",
    "Then by given $A^T = A$, and U orthogonal, we have\n",
    "$$AU = U\\Lambda$$\n",
    "\n",
    "which we have \n",
    "$$Au^{(i)} = \\lambda_i u^{(i)}$$"
   ]
  },
  {
   "cell_type": "markdown",
   "metadata": {},
   "source": [
    "Further, if A is PSD, we have\n",
    "$$(u^{(i)})^TAu^{(i)} = (u^{(i)})^T \\lambda_i u^{(i)} = \\lambda_i $$"
   ]
  }
 ],
 "metadata": {
  "kernelspec": {
   "display_name": "Python 3",
   "language": "python",
   "name": "python3"
  },
  "language_info": {
   "codemirror_mode": {
    "name": "ipython",
    "version": 3
   },
   "file_extension": ".py",
   "mimetype": "text/x-python",
   "name": "python",
   "nbconvert_exporter": "python",
   "pygments_lexer": "ipython3",
   "version": "3.6.4"
  }
 },
 "nbformat": 4,
 "nbformat_minor": 2
}

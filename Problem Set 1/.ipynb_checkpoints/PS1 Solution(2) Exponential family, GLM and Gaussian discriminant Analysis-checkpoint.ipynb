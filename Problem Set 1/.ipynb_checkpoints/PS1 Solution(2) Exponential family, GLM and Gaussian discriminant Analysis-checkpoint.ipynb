{
 "cells": [
  {
   "cell_type": "markdown",
   "metadata": {},
   "source": [
    "**1. GLM and Exponential Family**"
   ]
  },
  {
   "cell_type": "markdown",
   "metadata": {},
   "source": [
    "广义线性模型（GLM）线性预测算子(linear predictor)为 \n",
    "$$\\eta = \\theta^Tx$$\n"
   ]
  },
  {
   "cell_type": "markdown",
   "metadata": {},
   "source": [
    "这是基于线性模型的假设。同时对于Regression的目标函数 $y = h_\\theta(x)$, 我们实际是在给定 $\\eta$ 的情况下求 y 的概率分布。所以基于这个假设，我们有\n",
    "$$\n",
    "h(x, \\theta) = E(y ~|~ x, \\theta)\n",
    "$$"
   ]
  },
  {
   "cell_type": "markdown",
   "metadata": {},
   "source": [
    "最后，我们对 $E(y ~|~ x, \\theta)$ 或者 $P(y ~|~ x, \\theta)$ 完全无知的情况下上述模型无解，所以我们假设概率分布 $P(y ~|~ x, \\theta)$ 满足\n",
    "$$\n",
    "\\begin{align}\n",
    "P(y~|~\\eta) = b(y) exp (\\eta^T T(y) - a(\\eta))\n",
    "\\end{align}\n",
    "$$\n"
   ]
  },
  {
   "cell_type": "markdown",
   "metadata": {},
   "source": [
    "之所以假设概率分布服从这种指数族函数是因为这样的指数族概率分布他们的期望和方差很简单：\n",
    "$$\n",
    "E(y~|~\\eta) = \\frac{d}{d \\eta} a(\\eta)\\\\\n",
    "Var(y~|~\\eta) = \\frac{d^2}{d\\eta^2 } a(\\eta)\n",
    "$$"
   ]
  },
  {
   "cell_type": "markdown",
   "metadata": {},
   "source": [
    "这样我们就能够很方便的直接用期望得出 Regression 的目标函数 $h_\\theta(x)$ 了"
   ]
  },
  {
   "cell_type": "markdown",
   "metadata": {},
   "source": [
    "- **(a)** Given Poisson Distribution $p(y ; \\lambda) = \\frac{e^{-\\lambda} \\lambda^y}{y!}$"
   ]
  },
  {
   "cell_type": "markdown",
   "metadata": {},
   "source": [
    "We can rearrange the terms and get\n",
    "$$\n",
    "p(y ; \\lambda) = \\frac{1}{y!} exp (y\\ln \\lambda - \\lambda)\n",
    "$$"
   ]
  },
  {
   "cell_type": "markdown",
   "metadata": {},
   "source": [
    "where $b(y) = \\frac{1}{y!}$, $T(y) = y$, $\\ln \\lambda = \\eta$, $a(\\eta) = \\lambda$"
   ]
  },
  {
   "cell_type": "markdown",
   "metadata": {},
   "source": [
    "- **(b)** The canonical response function is our Expectation \n",
    "\n",
    "$$\n",
    "E(T(y); \\eta) = \\lambda = e^{\\theta^T x}\n",
    "$$"
   ]
  },
  {
   "cell_type": "markdown",
   "metadata": {},
   "source": [
    "- **(c)** The log-likelihood of the probability distribution is\n",
    "\n",
    "$$\n",
    "l(\\theta) = \\log(p(y; \\lambda)) \\\\\n",
    "= \\log \\frac{1}{y!} + y\\ln \\lambda - \\lambda \\\\\n",
    "= \\log\\frac{1}{y!} + y\\theta^Tx - e^{\\theta^Tx}\n",
    "$$"
   ]
  },
  {
   "cell_type": "markdown",
   "metadata": {},
   "source": [
    "We can solve the derivative \n",
    "$$\n",
    "\\frac{\\partial l(\\theta)}{\\partial \\theta_j} = yx_j - e^{\\theta^Tx}x_j = x_j(y - e^{\\theta^Tx})\n",
    "$$"
   ]
  },
  {
   "cell_type": "markdown",
   "metadata": {},
   "source": [
    "Thus the stochastic gradient ascent rule is \n",
    "$$\n",
    "\\theta_j := \\theta_j + \\alpha(y^{(i)} - e^{\\theta^Tx^{(i)}})x^{(i)}_j\n",
    "$$"
   ]
  },
  {
   "cell_type": "markdown",
   "metadata": {},
   "source": [
    "**2. Gaussian Discriminant Analysis**\n",
    "\n",
    "这是基于Bayes 方法的去通过p(x|y) 来求得 p(y|x)的方法，假设条件概率密度都是正态分布，分别具有均值和协方差$(\\mu_0, \\Sigma_0)$ 以及 $(\\mu_1, \\Sigma_1)$ 从而对输入点进行预测。"
   ]
  },
  {
   "cell_type": "markdown",
   "metadata": {},
   "source": []
  }
 ],
 "metadata": {
  "kernelspec": {
   "display_name": "Python 3",
   "language": "python",
   "name": "python3"
  },
  "language_info": {
   "codemirror_mode": {
    "name": "ipython",
    "version": 3
   },
   "file_extension": ".py",
   "mimetype": "text/x-python",
   "name": "python",
   "nbconvert_exporter": "python",
   "pygments_lexer": "ipython3",
   "version": "3.6.4"
  }
 },
 "nbformat": 4,
 "nbformat_minor": 2
}
